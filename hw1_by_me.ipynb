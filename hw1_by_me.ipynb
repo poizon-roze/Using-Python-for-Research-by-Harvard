{
 "cells": [
  {
   "cell_type": "code",
   "execution_count": 4,
   "metadata": {},
   "outputs": [
    {
     "name": "stdout",
     "output_type": "stream",
     "text": [
      "The estimation ratio of the two areas 0.779\n",
      "count/10000 - math.pi/4 =  0.006398163397448253\n"
     ]
    }
   ],
   "source": [
    "#number 2\n",
    "\n",
    "\n",
    "import math\n",
    "\n",
    "(math.pi)/4\n",
    "#hkdhkhdhfkjdhsfkhdkjkdhvhjdhkvjfvbjkfvkfdhjvdfkjvkjdbvdfvkjfdjvjkdfdfvjkdfjv\n",
    "\n",
    "\n",
    "import random\n",
    "\n",
    "random.seed(1) # Fixes the seed of the random number generator.\n",
    "\n",
    "def rand():\n",
    "   # define `rand` here!\n",
    "    return random.uniform(-1, 1)\n",
    "#hkdhkhdhfkjdhsfkhdkjkdhvhjdhkvjfvbjkfvkfdhjvdfkjvkjdbvdfvkjfdjvjkdfdfvjkdfjv\n",
    "\n",
    "\n",
    "def distance(x, y):\n",
    "   # define your function here!\n",
    "    return math.sqrt((y[1] - x[1])**2 + (y[0] - x[0])**2)\n",
    "#hkdhkhdhfkjdhsfkhdkjkdhvhjdhkvjfvbjkfvkfdhjvdfkjvkjdbvdfvkjfdjvjkdfdfvjkdfjv\n",
    "\n",
    "\n",
    "def in_circle(x,origin = [0,0]):\n",
    "   # Define your function here!\n",
    "    if (distance(x, origin)) < 1:        \n",
    "        return True\n",
    "    else:\n",
    "        return False\n",
    "#hkdhkhdhfkjdhsfkhdkjkdhvhjdhkvjfvbjkfvkfdhjvdfkjvkjdbvdfvkjfdjvjkdfdfvjkdfjv\n",
    "\n",
    "\n",
    "random.seed(1) \n",
    "\n",
    "inside = []\n",
    "\n",
    "for i in range(10000):\n",
    "    X = []\n",
    "    for j in range(2):\n",
    "        X.append(rand())\n",
    "    inside.append(in_circle(X, [0,0]))\n",
    "\n",
    "\n",
    "count = 0\n",
    "for stat in inside:\n",
    "    if inside[stat] == True:\n",
    "        count += 1\n",
    "\n",
    "print('The estimation ratio of the two areas', count/10000)\n",
    "#hkdhkhdhfkjdhsfkhdkjkdhvhjdhkvjfvbjkfvkfdhjvdfkjvkjdbvdfvkjfdjvjkdfdfvjkdfjv\n",
    "\n",
    "\n",
    "print('count/10000 - math.pi/4 = ', abs(count/10000 - math.pi/4))\n"
   ]
  },
  {
   "cell_type": "code",
   "execution_count": null,
   "metadata": {},
   "outputs": [],
   "source": []
  }
 ],
 "metadata": {
  "kernelspec": {
   "display_name": "Python 3",
   "language": "python",
   "name": "python3"
  },
  "language_info": {
   "codemirror_mode": {
    "name": "ipython",
    "version": 3
   },
   "file_extension": ".py",
   "mimetype": "text/x-python",
   "name": "python",
   "nbconvert_exporter": "python",
   "pygments_lexer": "ipython3",
   "version": "3.8.5"
  }
 },
 "nbformat": 4,
 "nbformat_minor": 4
}
