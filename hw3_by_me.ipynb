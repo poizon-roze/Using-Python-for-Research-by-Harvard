{
 "cells": [
  {
   "cell_type": "code",
   "execution_count": 5,
   "metadata": {},
   "outputs": [
    {
     "name": "stdout",
     "output_type": "stream",
     "text": [
      "lbnvakfmflacbohfu\n"
     ]
    }
   ],
   "source": [
    "import string\n",
    "\n",
    "alphabet = ' ' + string.ascii_lowercase\n",
    "type(alphabet)\n",
    "#hdjkhsafkjdfkdslkfslgjkjfhgklfjlksdlfjdskjgldskfldskfkjdsfkdsl\n",
    "\n",
    "\n",
    "positions = dict.fromkeys(alphabet, 0)\n",
    "j = 0\n",
    "\n",
    "for i in alphabet:\n",
    "    positions[i] = j\n",
    "    j += 1\n",
    "\n",
    "positions['n']\n",
    "#hdjkhsafkjdfkdslkfslgjkjfhgklfjlksdlfjdskjgldskfldskfkjdsfkdsl\n",
    "\n",
    "\n",
    "import numpy as np\n",
    "\n",
    "temp = []                                       #assign an empty list\n",
    "\n",
    "\n",
    "message = \"hi my name is caesar\"                #the message that we want to encode\n",
    "# write your code here!\n",
    "\n",
    "\n",
    "#hdjkhsafkjdfkdslkfslgjkjfhgklfjlksdlfjdskjgldskfldskfkjdsfkdsl\n",
    "\n",
    "\n",
    "def encoding(message):\n",
    "    encoded_message = ''                            #assign an empty string\n",
    "    for i in message:\n",
    "        temp.append(positions[i])                   #list all the value of the letters in message and store in temp\n",
    "\n",
    "    tempo = np.array(temp) + 1                      #we plus one to each of the value i.e. shifting the values by one\n",
    "                                                #and save it in tempo\n",
    "    def get_key(val):                               #a function to get the key by passing the value\n",
    "        for key, value in positions.items():\n",
    "             if val == value:\n",
    "                 return key\n",
    "        \n",
    "    for i in tempo:                                 #match and get the letters based on the value that we store in tempo\n",
    "        encoded_message = encoded_message + get_key(i)\n",
    "\n",
    "    print(encoded_message)\n",
    "\n",
    "\n",
    "encoding('kamu jelek banget')\n"
   ]
  },
  {
   "cell_type": "code",
   "execution_count": null,
   "metadata": {},
   "outputs": [],
   "source": []
  }
 ],
 "metadata": {
  "kernelspec": {
   "display_name": "Python 3",
   "language": "python",
   "name": "python3"
  },
  "language_info": {
   "codemirror_mode": {
    "name": "ipython",
    "version": 3
   },
   "file_extension": ".py",
   "mimetype": "text/x-python",
   "name": "python",
   "nbconvert_exporter": "python",
   "pygments_lexer": "ipython3",
   "version": "3.8.5"
  }
 },
 "nbformat": 4,
 "nbformat_minor": 4
}
